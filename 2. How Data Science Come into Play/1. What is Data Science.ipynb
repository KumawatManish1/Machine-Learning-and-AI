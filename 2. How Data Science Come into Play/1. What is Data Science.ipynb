{
 "cells": [
  {
   "cell_type": "markdown",
   "id": "a21d823d",
   "metadata": {},
   "source": [
    "## What is Data Science?"
   ]
  },
  {
   "cell_type": "markdown",
   "id": "bcea16df",
   "metadata": {},
   "source": [
    "* Data Science is kinda blended with various tools, algorithms, and machine learning principles. \n",
    "<br><br>\n",
    "* Most simply, it involves obtaining meaningful information or insights from structured or unstructured data through a process of analyzing, programming and business skills. \n",
    "<br><br>\n",
    "* It is a field containing many elements like mathematics, statistics, computer science, etc. Those who are good at these respective fields with enough knowledge of the domain in which you are willing to work can call themselves as Data Scientist. It’s not an easy thing to do but not impossible too. \n",
    "<br><br>\n",
    "* You need to start from data, it’s visualization, programming, formulation, development, and deployment of your model. In the future, there will be great hype for data scientist jobs. \n",
    "<br><br>\n",
    "* Taking in that mind, be ready to prepare yourself to fit in this world"
   ]
  },
  {
   "cell_type": "markdown",
   "id": "4bfc1b08",
   "metadata": {},
   "source": [
    "## How Data Science Works?"
   ]
  },
  {
   "cell_type": "markdown",
   "id": "f38b647f",
   "metadata": {},
   "source": [
    "* Data science is not a one-step process such that you will get to learn it in a short time and call ourselves a Data Scientist. It’s passes from many stages and every element is important. One should always follow the proper steps to reach the ladder. Every step has its value and it counts in your model. Buckle up in your seats and get ready to learn about those steps.\n",
    "\n",
    "\n",
    "### `1.Problem Statement:`\n",
    "* No work start without motivation, Data science is no exception though. \n",
    "* It’s really important to declare or formulate your problem statement very clearly and precisely.\n",
    "* Your whole model and it’s working depend on your statement. \n",
    "* Many scientist considers this as the main and much important step of Date Science. So make sure what’s your problem statement and how well can it add value to business or any other organization.\n",
    "\n",
    "### `2.Data Collection: `\n",
    "* After defining the problem statement, the next obvious step is to go in search of data that you might require for your model. * You must do good research, find all that you need. \n",
    "* Data can be in any form i.e unstructured or structured. It might be in various forms like videos, spreadsheets, coded forms, etc. You must collect all these kinds of sources.\n",
    "\n",
    "### `3.Data Cleaning:`\n",
    "* As you have formulated your motive and also you did collect your data, the next step to do is cleaning. Yes, it is! Data cleaning is the most favorite thing for data scientists to do. \n",
    "* Data cleaning is all about the removal of missing, redundant, unnecessary and duplicate data from your collection. There are various tools to do so with the help of programming in either R or Python. It’s totally on you to choose one of them. \n",
    "* Various scientist have their opinion on which to choose. When it comes to the statistical part, R is preferred over Python, as it has the privilege of more than 12,000 packages. \n",
    "* While python is used as it is fast, easily accessible and we can perform the same things as we can in R with the help of various packages.\n",
    "\n",
    "### `4.Data Analysis and Exploration:` \n",
    "* It’s one of the prime things in data science to do and time to get inner Holmes out. \n",
    "* It’s about analyzing the structure of data, finding hidden patterns in them, studying behaviors, visualizing the effects of one variable over others and then concluding. \n",
    "* We can explore the data with the help of various graphs formed with the help of libraries using any programming language. \n",
    "* In R, ggplot is one of the most famous models while matplotlib in Python.\n",
    "\n",
    "### `5.Data Modelling:`\n",
    "* Once you are done with your study that you have formed from data visualization, you must start building a hypothesis model such that it may yield you a good prediction in future.\n",
    "* Here, you must choose a good algorithm that best fit to your model. \n",
    "* There different kinds of algorithms from regression to classification, SVM( Support vector machines), Clustering, etc. Your model can be of a Machine Learning algorithm. \n",
    "* You train your model with the train data and then test it with test data. There are various methods to do so. One of them is the K-fold method where you split your whole data into two parts, One is Train and the other is test data. On these bases, you train your model.\n",
    "\n",
    "### `6.Optimization and Deployment:`\n",
    "* You followed each and every step and hence build a model that you feel is the best fit. But how can you decide how well your model is performing? This where optimization comes. You test your data and find how well it is performing by checking its accuracy. \n",
    "* In short, you check the efficiency of the data model and thus try to optimize it for better accurate prediction. \n",
    "* Deployment deals with the launch of your model and let the people outside there to benefit from that. You can also obtain feedback from organizations and people to know their need and then to work more on your model"
   ]
  },
  {
   "cell_type": "code",
   "execution_count": null,
   "id": "a92b6d67",
   "metadata": {},
   "outputs": [],
   "source": []
  }
 ],
 "metadata": {
  "kernelspec": {
   "display_name": "Python 3 (ipykernel)",
   "language": "python",
   "name": "python3"
  },
  "language_info": {
   "codemirror_mode": {
    "name": "ipython",
    "version": 3
   },
   "file_extension": ".py",
   "mimetype": "text/x-python",
   "name": "python",
   "nbconvert_exporter": "python",
   "pygments_lexer": "ipython3",
   "version": "3.11.4"
  }
 },
 "nbformat": 4,
 "nbformat_minor": 5
}
