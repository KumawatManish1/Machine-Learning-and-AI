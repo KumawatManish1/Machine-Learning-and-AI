{
 "cells": [
  {
   "cell_type": "markdown",
   "id": "122131fb",
   "metadata": {},
   "source": [
    "## 1. Supervised Machine Learning"
   ]
  },
  {
   "cell_type": "markdown",
   "id": "c71dc9a2",
   "metadata": {},
   "source": [
    "* Supervised learning is a type of machine learning in which the algorithm is trained on the labeled dataset. \n",
    "<br> <br>\n",
    "* It learns to map input features to targets based on labeled training data. \n",
    "<br> <br>\n",
    "* In supervised learning, the algorithm is provided with input features and corresponding output labels, and \n",
    "  it learns to generalize from this data to make predictions on new, unseen data.\n",
    "<br> <br>\n",
    "There are two main types of supervised learning:\n",
    "\n",
    "### `1.1 Regression:` \n",
    "  * Regression is a type of supervised learning where the algorithm learns to predict continuous values based on input features.\n",
    "  <br> <br>\n",
    "  * The output labels in regression are continuous values, such as stock prices, and housing prices. \n",
    "  <br> <br>\n",
    "  * The different regression algorithms in machine learning are: Linear Regression, Polynomial Regression, Ridge Regression, Decision Tree Regression,Random Forest Regression, Support Vector Regression, etc\n",
    "  <br> <br>\n",
    "### `1.2 Classification:` \n",
    "  * Classification is a type of supervised learning where the algorithm learns to assign input data to a specific category or       class based on input features. \n",
    "  <br> <br>\n",
    "  * The output labels in classification are discrete values. \n",
    "  <br> <br>\n",
    "  * Classification algorithms can be binary, where the output is one of two possible classes, or multiclass, where the output can be one of several classes. \n",
    "  <br> <br>\n",
    "  * The different Classification algorithms in machine learning are: Logistic Regression, Naive Bayes, Decision Tree, Support Vector Machine (SVM), K-Nearest Neighbors (KNN), etc"
   ]
  },
  {
   "cell_type": "markdown",
   "id": "e1e61e01",
   "metadata": {},
   "source": [
    "## 2. Unsupervised Machine Learning"
   ]
  },
  {
   "cell_type": "markdown",
   "id": "2bcf2858",
   "metadata": {},
   "source": [
    "*  Unsupervised learning is a type of machine learning where the algorithm learns to recognize patterns in data without being explicitly trained using labeled examples. \n",
    "<br> <br>\n",
    "* The goal of unsupervised learning is to discover the underlying structure or distribution in the data.\n",
    "<br> <br>\n",
    "There are two main types of unsupervised learning:\n",
    "\n",
    "### `2.1 Clustering:`\n",
    "* Clustering algorithms group similar data points together based on their characteristics.\n",
    "<br> <br>\n",
    "* The goal is to identify groups, or clusters, of data points that are similar to each other, while being distinct from other groups. \n",
    "<br> <br>\n",
    "* Some popular clustering algorithms include K-means, Hierarchical clustering, and DBSCAN.\n",
    "<br> <br>\n",
    "### `2.2 Association:`\n",
    "* Association rule learning is an unsupervised learning technique, which finds interesting relations among variables within a large dataset. \n",
    "<br> <br>\n",
    "* The main aim of this learning algorithm is to find the dependency of one data item on another data item and map those variables accordingly so that it can generate maximum profit.\n",
    "<br> <br>\n",
    "* This algorithm is mainly applied in Market Basket analysis, Web usage mining, continuous production, etc."
   ]
  },
  {
   "cell_type": "markdown",
   "id": "46c4cb9d",
   "metadata": {},
   "source": [
    "## 3. Semi-Supervised Machine Learning\n"
   ]
  },
  {
   "cell_type": "markdown",
   "id": "5edfed86",
   "metadata": {},
   "source": [
    "* Semi-Supervised learning is a type of Machine Learning algorithm that lies between Supervised and Unsupervised machine learning. \n",
    "<br> <br>\n",
    "* It represents the intermediate ground between Supervised (With Labelled training data) and Unsupervised learning (with no labelled training data) algorithms and uses the combination of labelled and unlabeled datasets during the training period.\n",
    "<br> <br>\n",
    "* Although Semi-supervised learning is the middle ground between supervised and unsupervised learning and operates on the data that consists of a few labels, it mostly consists of unlabeled data.\n",
    "<br> <br>\n",
    "* As labels are costly, but for corporate purposes, they may have few labels. \n",
    "<br> <br>\n",
    "* It is completely different from supervised and unsupervised learning as they are based on the presence & absence of labels"
   ]
  },
  {
   "cell_type": "markdown",
   "id": "266e893f",
   "metadata": {},
   "source": [
    "## 4. Reinforcement Machine Learning"
   ]
  },
  {
   "cell_type": "markdown",
   "id": "197abc28",
   "metadata": {},
   "source": [
    "* Reinforcement learning is a type of machine learning where an agent learns to interact with an environment by performing actions and receiving rewards or penalties based on its actions. \n",
    "<br> <br>\n",
    "* The goal of reinforcement learning is to learn a policy, which is a mapping from states to actions, that maximizes the expected cumulative reward over time.\n",
    "<br> <br>\n",
    "There are two main types of reinforcement learning:\n",
    "\n",
    "### `4.1 Model-based reinforcement learning:` \n",
    "* In model-based reinforcement learning, the agent learns a model of the environment, including the transition probabilities between states and the rewards associated with each state-action pair. \n",
    "<br> <br>\n",
    "* The agent then uses this model to plan its actions in order to maximize its expected reward. Some popular model-based reinforcement learning algorithms include Value Iteration and Policy Iteration.\n",
    "<br> <br>\n",
    "\n",
    "### `4.2 Model-free reinforcement learning:` \n",
    "* In model-free reinforcement learning, the agent learns a policy directly from experience without explicitly building a model of the environment. \n",
    "<br> <br>\n",
    "* The agent interacts with the environment and updates its policy based on the rewards it receives. \n",
    "<br> <br>\n",
    "* Some popular model-free reinforcement learning algorithms include Q-Learning, SARSA, and Deep Reinforcement Learning."
   ]
  },
  {
   "cell_type": "code",
   "execution_count": null,
   "id": "92afb3d9",
   "metadata": {},
   "outputs": [],
   "source": []
  }
 ],
 "metadata": {
  "kernelspec": {
   "display_name": "Python 3 (ipykernel)",
   "language": "python",
   "name": "python3"
  },
  "language_info": {
   "codemirror_mode": {
    "name": "ipython",
    "version": 3
   },
   "file_extension": ".py",
   "mimetype": "text/x-python",
   "name": "python",
   "nbconvert_exporter": "python",
   "pygments_lexer": "ipython3",
   "version": "3.11.4"
  }
 },
 "nbformat": 4,
 "nbformat_minor": 5
}
