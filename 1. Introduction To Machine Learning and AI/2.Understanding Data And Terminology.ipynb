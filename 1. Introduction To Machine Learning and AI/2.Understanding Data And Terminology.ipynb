{
 "cells": [
  {
   "cell_type": "markdown",
   "id": "9d1bcdc6",
   "metadata": {},
   "source": [
    "### `Data`"
   ]
  },
  {
   "cell_type": "markdown",
   "id": "0af994bb",
   "metadata": {},
   "source": [
    "* It can be any unprocessed fact, value, text, sound, or picture that is not being interpreted and analyzed. \n",
    "* Data is the most important part of all Data Analytics, Machine Learning, and Artificial Intelligence. \n",
    "* Without data, we can’t train any model and all modern research and automation will go in vain. \n",
    "* Big Enterprises are spending lots of money just to gather as much certain data as possible. \n",
    "<br><br>\n",
    "`Example:` Why did Facebook acquire WhatsApp by paying a huge price of $19 billion?\n",
    "<br> <br>\n",
    "The answer is very simple and logical – it is to have access to the users’ information that Facebook may not\n",
    "have but WhatsApp will have. This information about their users is of paramount importance to Facebook as it \n",
    "will facilitate the task of improvement in their services. "
   ]
  },
  {
   "cell_type": "markdown",
   "id": "886ea34b",
   "metadata": {},
   "source": [
    "### `How do we split data in Machine Learning?`"
   ]
  },
  {
   "cell_type": "markdown",
   "id": "75710c69",
   "metadata": {},
   "source": [
    "* `Training Data:` The part of data we use to train our model. This is the data that your model actually sees(both input and output) and learns from.\n",
    "<br><br>\n",
    "* `Validation Data:` The part of data that is used to do a frequent evaluation of the model, fit on the training dataset along with improving involved hyperparameters (initially set parameters before the model begins learning). This data plays its part when the model is actually training.\n",
    "<br><br>\n",
    "* `Testing Data:` Once our model is completely trained, testing data provides an unbiased evaluation. When we feed in the inputs of Testing data, our model will predict some values(without seeing actual output). After prediction, we evaluate our model by comparing it with the actual output present in the testing data. This is how we evaluate and see how much our model has learned from the experiences feed in as training data, set at the time of training.\n"
   ]
  },
  {
   "cell_type": "markdown",
   "id": "ef05cc1f",
   "metadata": {},
   "source": [
    "### `Different Forms of Data`"
   ]
  },
  {
   "cell_type": "markdown",
   "id": "75c46e04",
   "metadata": {},
   "source": [
    "* `Numeric Data :` If a feature represents a characteristic measured in numbers , it is called a numeric feature.\n",
    "<br><br>\n",
    "* `Categorical Data :` A categorical feature is an attribute that can take on one of the limited , and usually fixed number of possible values on the basis of some qualitative property . A categorical feature is also called a nominal feature.\n",
    "<br><br>\n",
    "* `Ordinal Data :` This denotes a nominal variable with categories falling in an ordered list . Examples include clothing sizes such as small, medium , and large , or a measurement of customer satisfaction on a scale from “not at all happy” to “very happy”"
   ]
  },
  {
   "cell_type": "code",
   "execution_count": null,
   "id": "67c438b7",
   "metadata": {},
   "outputs": [],
   "source": []
  }
 ],
 "metadata": {
  "kernelspec": {
   "display_name": "Python 3 (ipykernel)",
   "language": "python",
   "name": "python3"
  },
  "language_info": {
   "codemirror_mode": {
    "name": "ipython",
    "version": 3
   },
   "file_extension": ".py",
   "mimetype": "text/x-python",
   "name": "python",
   "nbconvert_exporter": "python",
   "pygments_lexer": "ipython3",
   "version": "3.11.4"
  }
 },
 "nbformat": 4,
 "nbformat_minor": 5
}
